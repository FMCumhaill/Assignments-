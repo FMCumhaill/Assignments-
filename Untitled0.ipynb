{
  "nbformat": 4,
  "nbformat_minor": 0,
  "metadata": {
    "colab": {
      "name": "Untitled0.ipynb",
      "provenance": [],
      "authorship_tag": "ABX9TyM8X+146XUmVt4wneDn4kGE",
      "include_colab_link": true
    },
    "kernelspec": {
      "name": "python3",
      "display_name": "Python 3"
    }
  },
  "cells": [
    {
      "cell_type": "markdown",
      "metadata": {
        "id": "view-in-github",
        "colab_type": "text"
      },
      "source": [
        "<a href=\"https://colab.research.google.com/github/FionnD/Assignments/blob/master/Untitled0.ipynb\" target=\"_parent\"><img src=\"https://colab.research.google.com/assets/colab-badge.svg\" alt=\"Open In Colab\"/></a>"
      ]
    },
    {
      "cell_type": "code",
      "metadata": {
        "colab": {
          "base_uri": "https://localhost:8080/"
        },
        "id": "zbvswy_rjo-t",
        "outputId": "a6748ce5-ece8-408e-fafc-6ee8634a4f2c"
      },
      "source": [
        "!pip install jina\n"
      ],
      "execution_count": null,
      "outputs": [
        {
          "output_type": "stream",
          "text": [
            "Requirement already satisfied: jina in /usr/local/lib/python3.7/dist-packages (1.0.7)\n",
            "Requirement already satisfied: numpy in /usr/local/lib/python3.7/dist-packages (from jina) (1.19.5)\n",
            "Requirement already satisfied: uvloop in /usr/local/lib/python3.7/dist-packages (from jina) (0.15.2)\n",
            "Requirement already satisfied: grpcio>=1.33.1 in /usr/local/lib/python3.7/dist-packages (from jina) (1.36.1)\n",
            "Requirement already satisfied: pyyaml>=5.3.1 in /usr/local/lib/python3.7/dist-packages (from jina) (5.4.1)\n",
            "Requirement already satisfied: lz4<3.1.2 in /usr/local/lib/python3.7/dist-packages (from jina) (3.1.1)\n",
            "Requirement already satisfied: tornado>=5.1.0 in /usr/local/lib/python3.7/dist-packages (from jina) (5.1.1)\n",
            "Requirement already satisfied: protobuf>=3.13.0 in /usr/local/lib/python3.7/dist-packages (from jina) (3.15.5)\n",
            "Requirement already satisfied: pyzmq>=17.1.0 in /usr/local/lib/python3.7/dist-packages (from jina) (22.0.3)\n",
            "Requirement already satisfied: six>=1.5.2 in /usr/local/lib/python3.7/dist-packages (from grpcio>=1.33.1->jina) (1.15.0)\n"
          ],
          "name": "stdout"
        }
      ]
    },
    {
      "cell_type": "code",
      "metadata": {
        "id": "sETOfwcij0qE"
      },
      "source": [
        "from jina import Flow"
      ],
      "execution_count": null,
      "outputs": []
    },
    {
      "cell_type": "code",
      "metadata": {
        "id": "q3_Rw5wHj5Wo"
      },
      "source": [
        "my_flow = Flow()"
      ],
      "execution_count": null,
      "outputs": []
    },
    {
      "cell_type": "code",
      "metadata": {
        "id": "WYzgcWnwj6xy"
      },
      "source": [
        "my_flow = Flow().add(name='encoder').add(name='indexer')"
      ],
      "execution_count": null,
      "outputs": []
    },
    {
      "cell_type": "code",
      "metadata": {
        "colab": {
          "base_uri": "https://localhost:8080/",
          "height": 75
        },
        "id": "f5DLPR6sj_P6",
        "outputId": "e65fae38-c8ba-4a22-f08e-4eddbd773b1c"
      },
      "source": [
        "my_flow"
      ],
      "execution_count": null,
      "outputs": [
        {
          "output_type": "display_data",
          "data": {
            "text/html": [
              "<img src=\"https://mermaid.ink/svg/JSV7aW5pdDogeyd0aGVtZSc6ICdiYXNlJywgJ3RoZW1lVmFyaWFibGVzJzogeyAncHJpbWFyeUNvbG9yJzogJyMzMkM4Q0QnLCAnZWRnZUxhYmVsQmFja2dyb3VuZCc6JyNmZmYnLCAnY2x1c3RlckJrZyc6ICcjRkZDQzY2J319fSUlCmdyYXBoIExSCmdhdGV3YXkoZ2F0ZXdheSk6OjpHQVRFV0FZIC0tPiB8UFVTSC1QVUxMfGVuY29kZXIoZW5jb2Rlcik6OjpQT0QKZW5jb2RlcihlbmNvZGVyKTo6OlBPRCAtLT4gfFBVU0gtUFVMTHxpbmRleGVyKGluZGV4ZXIpOjo6UE9ECmluZGV4ZXIoaW5kZXhlcik6OjpQT0QgLS0+IHxQVVNILVBVTEx8Z2F0ZXdheV9FTkQoZ2F0ZXdheSk6OjpHQVRFV0FZCmNsYXNzRGVmIFBPRCBmaWxsOiMzMkM4Q0Qsc3Ryb2tlOiMwMDk5OTkKY2xhc3NEZWYgSU5TUEVDVCBmaWxsOiNmZjY2NjYsY29sb3I6I2ZmZgpjbGFzc0RlZiBKT0lOX0lOU1BFQ1QgZmlsbDojZmY2NjY2LGNvbG9yOiNmZmYKY2xhc3NEZWYgR0FURVdBWSBmaWxsOiM2RTcyNzgsY29sb3I6I2ZmZgpjbGFzc0RlZiBJTlNQRUNUX0FVWF9QQVNTIGZpbGw6I2ZmZixjb2xvcjojMDAwLHN0cm9rZS1kYXNoYXJyYXk6IDUgNQpjbGFzc0RlZiBwZWEgZmlsbDojMDA5OTk5LHN0cm9rZTojMUU2RTcz\"/>"
            ],
            "text/plain": [
              "<IPython.core.display.Image object>"
            ]
          },
          "metadata": {
            "tags": []
          }
        }
      ]
    },
    {
      "cell_type": "code",
      "metadata": {
        "id": "0JC2jFCAk9J3"
      },
      "source": [
        "docs = [\n",
        "        ['Hello world'],\n",
        "        ['Goodbye world'],\n",
        "        ['I am a cat'],\n",
        "        ['You are a cat']\n",
        "]"
      ],
      "execution_count": null,
      "outputs": []
    },
    {
      "cell_type": "code",
      "metadata": {
        "id": "M-6dvsaemwkb"
      },
      "source": [
        "import numpy as np\n",
        "from jina import Document\n",
        "docs = [Document(id='🐲', embedding=np.array([0, 0]), tags={'guardian': 'Azure Dragon', 'position': 'East'}),\n",
        "        Document(id='🐦', embedding=np.array([1, 0]), tags={'guardian': 'Vermilion Bird', 'position': 'South'}),\n",
        "        Document(id='🐢', embedding=np.array([0, 1]), tags={'guardian': 'Black Tortoise', 'position': 'North'}),\n",
        "        Document(id='🐯', embedding=np.array([1, 1]), tags={'guardian': 'White Tiger', 'position': 'West'})]"
      ],
      "execution_count": null,
      "outputs": []
    },
    {
      "cell_type": "code",
      "metadata": {
        "colab": {
          "base_uri": "https://localhost:8080/"
        },
        "id": "6Jl1zv6PkBgy",
        "outputId": "c2c51012-eba2-49d3-cf9c-1eb954945aee"
      },
      "source": [
        "with my_flow:\n",
        "  my_flow.index(docs)"
      ],
      "execution_count": null,
      "outputs": [
        {
          "output_type": "stream",
          "text": [
            "        encoder@592[I]:starting jina.peapods.runtimes.zmq.zed.ZEDRuntime...\n",
            "        encoder@592[I]:input \u001b[33mtcp://0.0.0.0:40297\u001b[0m (PULL_BIND) output \u001b[33mtcp://0.0.0.0:43835\u001b[0m (PUSH_CONNECT) control over \u001b[33mtcp://0.0.0.0:52165\u001b[0m (PAIR_BIND)\n",
            "        indexer@599[I]:starting jina.peapods.runtimes.zmq.zed.ZEDRuntime...\n",
            "        indexer@599[I]:input \u001b[33mtcp://0.0.0.0:43835\u001b[0m (PULL_BIND) output \u001b[33mtcp://0.0.0.0:56905\u001b[0m (PUSH_BIND) control over \u001b[33mtcp://0.0.0.0:42289\u001b[0m (PAIR_BIND)\n",
            "   BaseExecutor@592[I]:post_init may take some time...\n",
            "   BaseExecutor@592[I]:post_init may take some time takes 0 seconds (0.02s)\n",
            "   BaseExecutor@592[S]:\u001b[32msuccessfully built BaseExecutor from a yaml config\u001b[0m\n",
            "        gateway@610[I]:starting jina.peapods.runtimes.asyncio.grpc.GRPCRuntime...\n",
            "        encoder@98[S]:\u001b[32mready and listening\u001b[0m\n",
            "   BaseExecutor@599[I]:post_init may take some time...\n",
            "        gateway@610[I]:input \u001b[33mtcp://0.0.0.0:56905\u001b[0m (PULL_CONNECT) output \u001b[33mtcp://0.0.0.0:40297\u001b[0m (PUSH_CONNECT) control over \u001b[33mipc:///tmp/tmp_bq1tek3\u001b[0m (PAIR_BIND)\n",
            "   BaseExecutor@599[I]:post_init may take some time takes 0 seconds (0.00s)\n",
            "   BaseExecutor@599[S]:\u001b[32msuccessfully built BaseExecutor from a yaml config\u001b[0m\n",
            "        gateway@610[S]:\u001b[32mGRPCRuntime is listening at: 0.0.0.0:40187\u001b[0m\n",
            "        indexer@98[S]:\u001b[32mready and listening\u001b[0m\n",
            "        gateway@98[S]:\u001b[32mready and listening\u001b[0m\n",
            "           Flow@98[I]:3 Pods (i.e. 3 Peas) are running in this Flow\n",
            "           Flow@98[S]:\u001b[32m🎉 Flow is ready to use, accepting \u001b[1mgRPC request\u001b[0m\u001b[0m\n",
            "           Flow@98[I]:\n",
            "\t🖥️ Local access:\t\u001b[4m\u001b[36mtcp://0.0.0.0:40187\u001b[0m\n",
            "\t🔒 Private network:\t\u001b[4m\u001b[36mtcp://172.28.0.2:40187\u001b[0m\n",
            "\t🌐 Public address:\t\u001b[4m\u001b[36mtcp://34.75.91.123:40187\u001b[0m\n",
            "         Client@98[S]:\u001b[32mconnected to the gateway at 0.0.0.0:40187!\u001b[0m\n",
            "\u001b[36mindex\u001b[0m |\u001b[32m█\u001b[0m                   | 📃      0 ⏱️ 0.0s 🐎 0.0/s      0      batchindex ...\t        gateway@610[I]:prefetching 50 requests...\n",
            "        gateway@610[W]:\u001b[40m\u001b[33mif this takes too long, you may want to take smaller \"--prefetch\" or ask client to reduce \"--request-size\"\u001b[0m\n",
            "        encoder@592[I]:recv IndexRequest  from gateway\u001b[32m▸\u001b[0mencoder/ZEDRuntime\u001b[32m▸\u001b[0m⚐\n",
            "        gateway@610[I]:prefetching 50 requests takes 0 seconds (0.01s)\n",
            "        encoder@592[I]:#sent: 0 #recv: 1 sent_size: 0 Bytes recv_size: 657 Bytes\n",
            "        indexer@599[I]:recv IndexRequest  from gateway\u001b[32m▸\u001b[0mencoder/ZEDRuntime\u001b[32m▸\u001b[0mindexer/ZEDRuntime\u001b[32m▸\u001b[0m⚐\n",
            "        indexer@599[I]:#sent: 0 #recv: 1 sent_size: 0 Bytes recv_size: 745 Bytes\n",
            "\u001b[36mindex\u001b[0m |\u001b[32m█\u001b[0m                   | 📃    100 ⏱️ 0.0s 🐎 2054.0/s      1      batch\u001b[32m    0 seconds (0.05s)\u001b[0m\n",
            "        gateway@610[I]:#sent: 1 #recv: 1 sent_size: 726 Bytes recv_size: 833 Bytes\n",
            "\t\u001b[32m✅ done in ⏱ 0 seconds 🐎 1956.5/s\u001b[0m\n",
            "        gateway@98[S]:\u001b[32mterminated\u001b[0m\n",
            "        indexer@599[I]:recv ControlRequest  from ctl\u001b[32m▸\u001b[0mindexer/ZEDRuntime\u001b[32m▸\u001b[0m⚐\n",
            "        indexer@599[I]:#sent: 2 #recv: 2 sent_size: 1.1 KB recv_size: 882 Bytes\n",
            "        indexer@599[I]:no update since 2021-03-05 13:37:14, will not save. If you really want to save it, call \"touch()\" before \"save()\" to force saving\n",
            "        indexer@98[S]:\u001b[32mterminated\u001b[0m\n",
            "        encoder@592[I]:recv ControlRequest  from ctl\u001b[32m▸\u001b[0mencoder/ZEDRuntime\u001b[32m▸\u001b[0m⚐\n",
            "        encoder@592[I]:#sent: 2 #recv: 2 sent_size: 1.0 KB recv_size: 794 Bytes\n",
            "        encoder@592[I]:no update since 2021-03-05 13:37:14, will not save. If you really want to save it, call \"touch()\" before \"save()\" to force saving\n",
            "        encoder@98[S]:\u001b[32mterminated\u001b[0m\n",
            "           Flow@98[S]:\u001b[32mflow is closed and all resources are released, current build level is 0\u001b[0m\n"
          ],
          "name": "stdout"
        }
      ]
    },
    {
      "cell_type": "code",
      "metadata": {
        "colab": {
          "base_uri": "https://localhost:8080/"
        },
        "id": "f4pFxlVhkKYT",
        "outputId": "e400569c-9ec3-4176-88cd-08f957f00b07"
      },
      "source": [
        "with my_flow:\n",
        "  my_flow.search(docs[0], top_k=3, on_done=lambda x: print(x.docs[0].matches))"
      ],
      "execution_count": null,
      "outputs": [
        {
          "output_type": "stream",
          "text": [
            "        encoder@766[I]:starting jina.peapods.runtimes.zmq.zed.ZEDRuntime...\n",
            "        encoder@766[I]:input \u001b[33mtcp://0.0.0.0:40297\u001b[0m (PULL_BIND) output \u001b[33mtcp://0.0.0.0:43835\u001b[0m (PUSH_CONNECT) control over \u001b[33mtcp://0.0.0.0:52165\u001b[0m (PAIR_BIND)\n",
            "        indexer@773[I]:starting jina.peapods.runtimes.zmq.zed.ZEDRuntime...\n",
            "        indexer@773[I]:input \u001b[33mtcp://0.0.0.0:43835\u001b[0m (PULL_BIND) output \u001b[33mtcp://0.0.0.0:56905\u001b[0m (PUSH_BIND) control over \u001b[33mtcp://0.0.0.0:42289\u001b[0m (PAIR_BIND)\n",
            "   BaseExecutor@766[I]:post_init may take some time...\n",
            "        gateway@780[I]:starting jina.peapods.runtimes.asyncio.grpc.GRPCRuntime...\n",
            "   BaseExecutor@766[I]:post_init may take some time takes 0 seconds (0.01s)\n",
            "        gateway@780[I]:input \u001b[33mtcp://0.0.0.0:56905\u001b[0m (PULL_CONNECT) output \u001b[33mtcp://0.0.0.0:40297\u001b[0m (PUSH_CONNECT) control over \u001b[33mipc:///tmp/tmpgrtjvlm0\u001b[0m (PAIR_BIND)\n",
            "   BaseExecutor@766[S]:\u001b[32msuccessfully built BaseExecutor from a yaml config\u001b[0m\n",
            "        encoder@98[S]:\u001b[32mready and listening\u001b[0m\n",
            "        gateway@780[S]:\u001b[32mGRPCRuntime is listening at: 0.0.0.0:34679\u001b[0m\n",
            "   BaseExecutor@773[I]:post_init may take some time...\n",
            "   BaseExecutor@773[I]:post_init may take some time takes 0 seconds (0.01s)\n",
            "   BaseExecutor@773[S]:\u001b[32msuccessfully built BaseExecutor from a yaml config\u001b[0m\n",
            "        indexer@98[S]:\u001b[32mready and listening\u001b[0m\n",
            "        gateway@98[S]:\u001b[32mready and listening\u001b[0m\n",
            "           Flow@98[I]:3 Pods (i.e. 3 Peas) are running in this Flow\n",
            "           Flow@98[S]:\u001b[32m🎉 Flow is ready to use, accepting \u001b[1mgRPC request\u001b[0m\u001b[0m\n",
            "           Flow@98[I]:\n",
            "\t🖥️ Local access:\t\u001b[4m\u001b[36mtcp://0.0.0.0:34679\u001b[0m\n",
            "\t🔒 Private network:\t\u001b[4m\u001b[36mtcp://172.28.0.2:34679\u001b[0m\n",
            "\t🌐 Public address:\t\u001b[4m\u001b[36mtcp://34.75.91.123:34679\u001b[0m\n",
            "         Client@98[S]:\u001b[32mconnected to the gateway at 0.0.0.0:34679!\u001b[0m\n",
            "\u001b[36msearch\u001b[0m |\u001b[32m█\u001b[0m                   | 📃      0 ⏱️ 0.0s 🐎 0.0/s      0      batchsearch ...\t        gateway@780[I]:prefetching 50 requests...\n",
            "        gateway@780[W]:\u001b[40m\u001b[33mif this takes too long, you may want to take smaller \"--prefetch\" or ask client to reduce \"--request-size\"\u001b[0m\n",
            "        encoder@766[I]:recv SearchRequest  from gateway\u001b[32m▸\u001b[0mencoder/ZEDRuntime\u001b[32m▸\u001b[0m⚐\n",
            "        gateway@780[I]:prefetching 50 requests takes 0 seconds (0.01s)\n",
            "        encoder@766[I]:#sent: 0 #recv: 1 sent_size: 0 Bytes recv_size: 464 Bytes\n",
            "        indexer@773[I]:recv SearchRequest  from gateway\u001b[32m▸\u001b[0mencoder/ZEDRuntime\u001b[32m▸\u001b[0mindexer/ZEDRuntime\u001b[32m▸\u001b[0m⚐\n",
            "        indexer@773[I]:#sent: 0 #recv: 1 sent_size: 0 Bytes recv_size: 552 Bytes\n",
            "\n",
            "\u001b[36msearch\u001b[0m |\u001b[32m█\u001b[0m                   | 📃    100 ⏱️ 0.1s 🐎 1874.7/s      1      batch\u001b[32m    0 seconds (0.05s)\u001b[0m\n",
            "        gateway@780[I]:#sent: 1 #recv: 1 sent_size: 533 Bytes recv_size: 640 Bytes\n",
            "\t\u001b[32m✅ done in ⏱ 0 seconds 🐎 1777.0/s\u001b[0m\n",
            "        gateway@98[S]:\u001b[32mterminated\u001b[0m\n",
            "        indexer@773[I]:recv ControlRequest  from ctl\u001b[32m▸\u001b[0mindexer/ZEDRuntime\u001b[32m▸\u001b[0m⚐\n",
            "        indexer@773[I]:#sent: 2 #recv: 2 sent_size: 954 Bytes recv_size: 689 Bytes\n",
            "        indexer@773[I]:no update since 2021-03-05 13:38:19, will not save. If you really want to save it, call \"touch()\" before \"save()\" to force saving\n",
            "        indexer@98[S]:\u001b[32mterminated\u001b[0m\n",
            "        encoder@766[I]:recv ControlRequest  from ctl\u001b[32m▸\u001b[0mencoder/ZEDRuntime\u001b[32m▸\u001b[0m⚐\n",
            "        encoder@766[I]:#sent: 2 #recv: 2 sent_size: 866 Bytes recv_size: 601 Bytes\n",
            "        encoder@766[I]:no update since 2021-03-05 13:38:19, will not save. If you really want to save it, call \"touch()\" before \"save()\" to force saving\n",
            "        encoder@98[S]:\u001b[32mterminated\u001b[0m\n",
            "           Flow@98[S]:\u001b[32mflow is closed and all resources are released, current build level is 0\u001b[0m\n"
          ],
          "name": "stdout"
        }
      ]
    },
    {
      "cell_type": "code",
      "metadata": {
        "id": "XhfR74jykzCg"
      },
      "source": [
        ""
      ],
      "execution_count": null,
      "outputs": []
    }
  ]
}